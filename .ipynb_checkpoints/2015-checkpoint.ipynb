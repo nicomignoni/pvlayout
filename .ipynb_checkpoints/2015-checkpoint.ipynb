{
 "cells": [
  {
   "cell_type": "markdown",
   "id": "7d273d6d-a903-4b63-ba15-efd7bb12d953",
   "metadata": {},
   "source": [
    "# Advent of Code 2015"
   ]
  },
  {
   "cell_type": "code",
   "execution_count": null,
   "id": "11836409-d22a-4461-8b5f-03e7c9675e5a",
   "metadata": {},
   "outputs": [],
   "source": []
  }
 ],
 "metadata": {
  "kernelspec": {
   "display_name": "Python 3 (ipykernel)",
   "language": "python",
   "name": "python3"
  },
  "language_info": {
   "codemirror_mode": {
    "name": "ipython",
    "version": 3
   },
   "file_extension": ".py",
   "mimetype": "text/x-python",
   "name": "python",
   "nbconvert_exporter": "python",
   "pygments_lexer": "ipython3",
   "version": "3.9.10"
  }
 },
 "nbformat": 4,
 "nbformat_minor": 5
}
